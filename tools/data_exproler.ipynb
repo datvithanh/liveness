{
 "cells": [
  {
   "cell_type": "markdown",
   "metadata": {},
   "source": [
    "# Statistics"
   ]
  },
  {
   "cell_type": "code",
   "execution_count": null,
   "metadata": {},
   "outputs": [],
   "source": [
    "import glob\n",
    "import os\n",
    "from collections import defaultdict\n",
    "from tqdm import tqdm\n",
    "from IPython import display\n",
    "import random\n",
    "import pdb\n",
    "\n",
    "data_dir = '/home/common_gpu0/corpora/vision/liveness/rose/images'\n",
    "video_dir = '/home/common_gpu0/corpora/vision/liveness/rose/videos'"
   ]
  },
  {
   "cell_type": "markdown",
   "metadata": {},
   "source": [
    "### Category examples by number of frames"
   ]
  },
  {
   "cell_type": "code",
   "execution_count": null,
   "metadata": {},
   "outputs": [],
   "source": [
    "def fac_stat():\n",
    "    return {'count': 0, 'examples':[]}\n",
    "\n",
    "stats_num_imgs = defaultdict(fac_stat)\n",
    "for sub in tqdm(glob.glob(os.path.join(data_dir, '*'))):\n",
    "    for example in glob.glob(os.path.join(sub, '*')):\n",
    "        imgs = glob.glob(os.path.join(example, '*'))\n",
    "        num_imgs = len(imgs)\n",
    "        stats_num_imgs[num_imgs]['count'] += 1\n",
    "        stats_num_imgs[num_imgs]['examples'].append(example)\n",
    "        \n",
    "for key, item in stats_num_imgs.items():\n",
    "    print(key, item['count'])"
   ]
  },
  {
   "cell_type": "code",
   "execution_count": null,
   "metadata": {
    "scrolled": false
   },
   "outputs": [],
   "source": [
    "keys = sorted(stats_num_imgs.keys())\n",
    "for key in keys:\n",
    "    examples = stats_num_imgs[key]['examples']\n",
    "    random.shuffle(examples)\n",
    "    examples = random.sample(examples,10)\n",
    "    for count, example in enumerate(examples):\n",
    "        print(key, '\\t', '\\t', example)\n",
    "        \n",
    "        #display video\n",
    "        video_path = example.replace('images', 'videos')\n",
    "        idx = video_path.index('__')\n",
    "        video_path = video_path[:idx]\n",
    "        video_path = '{}.mp4'.format(video_path)\n",
    "        display.display(display.Video(video_path, embed=True))\n",
    "        \n",
    "        #display example images\n",
    "        images = glob.glob(os.path.join(example, '*'))\n",
    "        for image in images:\n",
    "            display.display(display.Image(image))\n",
    "        pdb.set_trace()\n",
    "        display.clear_output()"
   ]
  },
  {
   "cell_type": "raw",
   "metadata": {},
   "source": [
    "NOTES:\n",
    "#video recorded with Lenovo LCD loss face detection?? How many?\n",
    "#some images in example might not be set in the right direction, may require to manually rotation?\n",
    "#genuous people occured in examples which contains at least 5 frames\n",
    "\n",
    "#examples with 5 frames\n",
    "#Train 89865\n",
    "#Test 86231\n",
    "#examples with 8 frames\n",
    "#Train 67380\n",
    "#Test 63940"
   ]
  },
  {
   "cell_type": "markdown",
   "metadata": {},
   "source": [
    "# Show videos and examples"
   ]
  },
  {
   "cell_type": "code",
   "execution_count": null,
   "metadata": {},
   "outputs": [],
   "source": [
    "video = '21/Vl_NT_HS_wg_E_21_147'\n",
    "\n",
    "#video\n",
    "video_path = os.path.join(video_dir, '{}.mp4'.format(video))\n",
    "display.display(display.Video(video_path, embed=True))"
   ]
  },
  {
   "cell_type": "code",
   "execution_count": null,
   "metadata": {
    "scrolled": false
   },
   "outputs": [],
   "source": [
    "#central\n",
    "examples = os.path.join(data_dir, '{}*'.format(video))\n",
    "examples = sorted(glob.glob(examples))\n",
    "for example in examples:\n",
    "    if example.endswith('_gam1') or example.endswith('_gam2'):\n",
    "        continue    \n",
    "    print(example)\n",
    "    for img in glob.glob(os.path.join(example, '*')):\n",
    "        display.display(display.Image(img))\n",
    "#display.clear_output()"
   ]
  },
  {
   "cell_type": "markdown",
   "metadata": {},
   "source": [
    "# Count examples on train and test set"
   ]
  },
  {
   "cell_type": "code",
   "execution_count": null,
   "metadata": {},
   "outputs": [],
   "source": [
    "train_subs = [2,3,4,5,6,7,9,10,11,12]\n",
    "min_frame = 8\n",
    "train_count = 0\n",
    "test_count = 0\n",
    "for key in range(min_frame, 10):\n",
    "    for example in stats_num_imgs[key]['examples']:\n",
    "        sub = example.replace('/home/common_gpu0/corpora/vision/liveness/rose/images/', '')\n",
    "        idx = sub.index('/')\n",
    "        sub = sub[:idx]\n",
    "        if int(sub) in train_subs:\n",
    "            train_count += 1\n",
    "        else:\n",
    "            test_count += 1\n",
    "print('#Train', train_count)\n",
    "print('#Test', test_count)"
   ]
  },
  {
   "cell_type": "code",
   "execution_count": null,
   "metadata": {},
   "outputs": [],
   "source": []
  }
 ],
 "metadata": {
  "kernelspec": {
   "display_name": "Python 3",
   "language": "python",
   "name": "python3"
  },
  "language_info": {
   "codemirror_mode": {
    "name": "ipython",
    "version": 3
   },
   "file_extension": ".py",
   "mimetype": "text/x-python",
   "name": "python",
   "nbconvert_exporter": "python",
   "pygments_lexer": "ipython3",
   "version": "3.6.8"
  }
 },
 "nbformat": 4,
 "nbformat_minor": 2
}
